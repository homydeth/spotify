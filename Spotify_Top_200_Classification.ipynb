{
 "cells": [
  {
   "cell_type": "code",
   "execution_count": 1,
   "metadata": {
    "collapsed": false
   },
   "outputs": [
    {
     "data": {
      "text/html": [
       "<script>jQuery(function() {if (jQuery(\"body.notebook_app\").length == 0) { jQuery(\".input_area\").toggle(); jQuery(\".prompt\").toggle();}});</script>"
      ]
     },
     "metadata": {},
     "output_type": "display_data"
    },
    {
     "data": {
      "text/html": [
       "<button onclick=\"jQuery('.input_area').toggle(); jQuery('.prompt').toggle();\">Toggle code</button>"
      ]
     },
     "metadata": {},
     "output_type": "display_data"
    }
   ],
   "source": [
    "from IPython.display import display\n",
    "from IPython.core.display import HTML \n",
    "import IPython.core.display as di # Example: di.display_html('<h3>%s:</h3>' % str, raw=True)\n",
    "\n",
    "# This line will hide code by default when the notebook is exported as HTML\n",
    "di.display_html('<script>jQuery(function() {if (jQuery(\"body.notebook_app\").length == 0) { jQuery(\".input_area\").toggle(); jQuery(\".prompt\").toggle();}});</script>', raw=True)\n",
    "\n",
    "# This line will add a button to toggle visibility of code blocks, for use with the HTML export version\n",
    "di.display_html('''<button onclick=\"jQuery('.input_area').toggle(); jQuery('.prompt').toggle();\">Toggle code</button>''', raw=True)\n",
    "\n",
    "import pandas as pd\n",
    "import numpy as np\n",
    "\n",
    "pd.set_option('mode.chained_assignment',None)"
   ]
  },
  {
   "cell_type": "code",
   "execution_count": 2,
   "metadata": {
    "collapsed": false
   },
   "outputs": [],
   "source": [
    "from sklearn.metrics import confusion_matrix \n",
    "from sklearn.metrics import accuracy_score\n",
    "from sklearn.tree import DecisionTreeClassifier\n",
    "from sklearn.neighbors import KNeighborsClassifier"
   ]
  },
  {
   "cell_type": "code",
   "execution_count": 3,
   "metadata": {
    "collapsed": true
   },
   "outputs": [],
   "source": [
    "from sklearn.cross_validation import train_test_split"
   ]
  },
  {
   "cell_type": "code",
   "execution_count": 4,
   "metadata": {
    "collapsed": true
   },
   "outputs": [],
   "source": [
    "from sklearn.cross_validation import cross_val_score"
   ]
  },
  {
   "cell_type": "code",
   "execution_count": 5,
   "metadata": {
    "collapsed": true
   },
   "outputs": [],
   "source": [
    "data_df = pd.read_csv('spotify_top_200_clustered.csv')"
   ]
  },
  {
   "cell_type": "code",
   "execution_count": 6,
   "metadata": {
    "collapsed": false
   },
   "outputs": [
    {
     "data": {
      "text/html": [
       "<div>\n",
       "<table border=\"1\" class=\"dataframe\">\n",
       "  <thead>\n",
       "    <tr style=\"text-align: right;\">\n",
       "      <th></th>\n",
       "      <th>track_id</th>\n",
       "      <th>Artist</th>\n",
       "      <th>Track.Name</th>\n",
       "      <th>top.rank</th>\n",
       "      <th>total.plays</th>\n",
       "      <th>average.daily.plays</th>\n",
       "      <th>days.in.chart</th>\n",
       "      <th>artist_id</th>\n",
       "      <th>followers</th>\n",
       "      <th>genres</th>\n",
       "      <th>...</th>\n",
       "      <th>speechiness</th>\n",
       "      <th>acousticness</th>\n",
       "      <th>instrumentalness</th>\n",
       "      <th>danceability</th>\n",
       "      <th>key</th>\n",
       "      <th>duration_ms</th>\n",
       "      <th>loudness</th>\n",
       "      <th>mode</th>\n",
       "      <th>valence</th>\n",
       "      <th>cluster</th>\n",
       "    </tr>\n",
       "  </thead>\n",
       "  <tbody>\n",
       "    <tr>\n",
       "      <th>0</th>\n",
       "      <td>003eoIwxETJujVWmNFMoZy</td>\n",
       "      <td>Alessia Cara</td>\n",
       "      <td>Growing Pains</td>\n",
       "      <td>91</td>\n",
       "      <td>9809956</td>\n",
       "      <td>700711.142857</td>\n",
       "      <td>14</td>\n",
       "      <td>2wUjUUtkb5lvLKcGKsKqsR</td>\n",
       "      <td>4431425</td>\n",
       "      <td>[u'canadian contemporary r&amp;b', u'dance pop', u...</td>\n",
       "      <td>...</td>\n",
       "      <td>0.7330</td>\n",
       "      <td>0.0822</td>\n",
       "      <td>0.000000</td>\n",
       "      <td>0.353</td>\n",
       "      <td>1</td>\n",
       "      <td>193680</td>\n",
       "      <td>-6.276</td>\n",
       "      <td>0</td>\n",
       "      <td>0.437</td>\n",
       "      <td>1</td>\n",
       "    </tr>\n",
       "    <tr>\n",
       "      <th>1</th>\n",
       "      <td>00B7TZ0Xawar6NZ00JFomN</td>\n",
       "      <td>Cardi B</td>\n",
       "      <td>Best Life (feat. Chance The Rapper)</td>\n",
       "      <td>61</td>\n",
       "      <td>11882167</td>\n",
       "      <td>848726.214286</td>\n",
       "      <td>14</td>\n",
       "      <td>4kYSro6naA4h99UJvo89HB</td>\n",
       "      <td>5927731</td>\n",
       "      <td>[u'pop', u'rap']</td>\n",
       "      <td>...</td>\n",
       "      <td>0.5530</td>\n",
       "      <td>0.2870</td>\n",
       "      <td>0.000000</td>\n",
       "      <td>0.620</td>\n",
       "      <td>9</td>\n",
       "      <td>284856</td>\n",
       "      <td>-7.438</td>\n",
       "      <td>1</td>\n",
       "      <td>0.665</td>\n",
       "      <td>1</td>\n",
       "    </tr>\n",
       "    <tr>\n",
       "      <th>2</th>\n",
       "      <td>00EPIEnX1JFjff8sC6bccd</td>\n",
       "      <td>Thalía</td>\n",
       "      <td>No Me Acuerdo</td>\n",
       "      <td>62</td>\n",
       "      <td>109991625</td>\n",
       "      <td>833269.886364</td>\n",
       "      <td>132</td>\n",
       "      <td>23wEWD21D4TPYiJugoXmYb</td>\n",
       "      <td>1725195</td>\n",
       "      <td>[u'dance pop', u'latin', u'latin pop', u'mexic...</td>\n",
       "      <td>...</td>\n",
       "      <td>0.0873</td>\n",
       "      <td>0.1870</td>\n",
       "      <td>0.000000</td>\n",
       "      <td>0.836</td>\n",
       "      <td>7</td>\n",
       "      <td>217653</td>\n",
       "      <td>-4.247</td>\n",
       "      <td>0</td>\n",
       "      <td>0.772</td>\n",
       "      <td>1</td>\n",
       "    </tr>\n",
       "    <tr>\n",
       "      <th>3</th>\n",
       "      <td>00gpGR84M27moP7AFuqHIx</td>\n",
       "      <td>DJ A1</td>\n",
       "      <td>Bounce Out With That FT. YBN Nahmir</td>\n",
       "      <td>124</td>\n",
       "      <td>4816077</td>\n",
       "      <td>688011.000000</td>\n",
       "      <td>7</td>\n",
       "      <td>76STnzdGp9dpBe7nX7rQB2</td>\n",
       "      <td>11</td>\n",
       "      <td>[]</td>\n",
       "      <td>...</td>\n",
       "      <td>0.1730</td>\n",
       "      <td>0.0426</td>\n",
       "      <td>0.000000</td>\n",
       "      <td>0.857</td>\n",
       "      <td>8</td>\n",
       "      <td>91011</td>\n",
       "      <td>-8.278</td>\n",
       "      <td>1</td>\n",
       "      <td>0.482</td>\n",
       "      <td>1</td>\n",
       "    </tr>\n",
       "    <tr>\n",
       "      <th>4</th>\n",
       "      <td>00TVmX9spquyg0UKuN57l3</td>\n",
       "      <td>Fall Out Boy</td>\n",
       "      <td>HOLD ME TIGHT OR DON’T</td>\n",
       "      <td>182</td>\n",
       "      <td>557997</td>\n",
       "      <td>557997.000000</td>\n",
       "      <td>1</td>\n",
       "      <td>4UXqAaa6dQYAk18Lv7PEgX</td>\n",
       "      <td>5729744</td>\n",
       "      <td>[u'emo', u'modern rock', u'pop punk']</td>\n",
       "      <td>...</td>\n",
       "      <td>0.0500</td>\n",
       "      <td>0.0063</td>\n",
       "      <td>0.000003</td>\n",
       "      <td>0.581</td>\n",
       "      <td>6</td>\n",
       "      <td>210347</td>\n",
       "      <td>-4.324</td>\n",
       "      <td>0</td>\n",
       "      <td>0.847</td>\n",
       "      <td>1</td>\n",
       "    </tr>\n",
       "  </tbody>\n",
       "</table>\n",
       "<p>5 rows × 24 columns</p>\n",
       "</div>"
      ],
      "text/plain": [
       "                 track_id        Artist                           Track.Name  \\\n",
       "0  003eoIwxETJujVWmNFMoZy  Alessia Cara                        Growing Pains   \n",
       "1  00B7TZ0Xawar6NZ00JFomN       Cardi B  Best Life (feat. Chance The Rapper)   \n",
       "2  00EPIEnX1JFjff8sC6bccd        Thalía                        No Me Acuerdo   \n",
       "3  00gpGR84M27moP7AFuqHIx         DJ A1  Bounce Out With That FT. YBN Nahmir   \n",
       "4  00TVmX9spquyg0UKuN57l3  Fall Out Boy               HOLD ME TIGHT OR DON’T   \n",
       "\n",
       "   top.rank  total.plays  average.daily.plays  days.in.chart  \\\n",
       "0        91      9809956        700711.142857             14   \n",
       "1        61     11882167        848726.214286             14   \n",
       "2        62    109991625        833269.886364            132   \n",
       "3       124      4816077        688011.000000              7   \n",
       "4       182       557997        557997.000000              1   \n",
       "\n",
       "                artist_id  followers  \\\n",
       "0  2wUjUUtkb5lvLKcGKsKqsR    4431425   \n",
       "1  4kYSro6naA4h99UJvo89HB    5927731   \n",
       "2  23wEWD21D4TPYiJugoXmYb    1725195   \n",
       "3  76STnzdGp9dpBe7nX7rQB2         11   \n",
       "4  4UXqAaa6dQYAk18Lv7PEgX    5729744   \n",
       "\n",
       "                                              genres   ...     speechiness  \\\n",
       "0  [u'canadian contemporary r&b', u'dance pop', u...   ...          0.7330   \n",
       "1                                   [u'pop', u'rap']   ...          0.5530   \n",
       "2  [u'dance pop', u'latin', u'latin pop', u'mexic...   ...          0.0873   \n",
       "3                                                 []   ...          0.1730   \n",
       "4              [u'emo', u'modern rock', u'pop punk']   ...          0.0500   \n",
       "\n",
       "   acousticness  instrumentalness  danceability  key  duration_ms  loudness  \\\n",
       "0        0.0822          0.000000         0.353    1       193680    -6.276   \n",
       "1        0.2870          0.000000         0.620    9       284856    -7.438   \n",
       "2        0.1870          0.000000         0.836    7       217653    -4.247   \n",
       "3        0.0426          0.000000         0.857    8        91011    -8.278   \n",
       "4        0.0063          0.000003         0.581    6       210347    -4.324   \n",
       "\n",
       "   mode  valence  cluster  \n",
       "0     0    0.437        1  \n",
       "1     1    0.665        1  \n",
       "2     0    0.772        1  \n",
       "3     1    0.482        1  \n",
       "4     0    0.847        1  \n",
       "\n",
       "[5 rows x 24 columns]"
      ]
     },
     "execution_count": 6,
     "metadata": {},
     "output_type": "execute_result"
    }
   ],
   "source": [
    "data_df.head()"
   ]
  },
  {
   "cell_type": "code",
   "execution_count": 7,
   "metadata": {
    "collapsed": false
   },
   "outputs": [],
   "source": [
    "y = data_df.cluster\n",
    "X = data_df[['top.rank', 'total.plays', 'average.daily.plays'\n",
    "                                                , 'days.in.chart', 'energy', 'liveness', 'tempo', 'speechiness'\n",
    "                                                , 'acousticness', 'instrumentalness', 'danceability', 'key'\n",
    "                                                , 'duration_ms' ,'loudness', 'mode', 'valence','popularity']]"
   ]
  },
  {
   "cell_type": "code",
   "execution_count": 8,
   "metadata": {
    "collapsed": false
   },
   "outputs": [
    {
     "data": {
      "text/html": [
       "<div>\n",
       "<table border=\"1\" class=\"dataframe\">\n",
       "  <thead>\n",
       "    <tr style=\"text-align: right;\">\n",
       "      <th></th>\n",
       "      <th>top.rank</th>\n",
       "      <th>total.plays</th>\n",
       "      <th>average.daily.plays</th>\n",
       "      <th>days.in.chart</th>\n",
       "      <th>energy</th>\n",
       "      <th>liveness</th>\n",
       "      <th>tempo</th>\n",
       "      <th>speechiness</th>\n",
       "      <th>acousticness</th>\n",
       "      <th>instrumentalness</th>\n",
       "      <th>danceability</th>\n",
       "      <th>key</th>\n",
       "      <th>duration_ms</th>\n",
       "      <th>loudness</th>\n",
       "      <th>mode</th>\n",
       "      <th>valence</th>\n",
       "      <th>popularity</th>\n",
       "    </tr>\n",
       "  </thead>\n",
       "  <tbody>\n",
       "    <tr>\n",
       "      <th>0</th>\n",
       "      <td>91</td>\n",
       "      <td>9809956</td>\n",
       "      <td>700711.142857</td>\n",
       "      <td>14</td>\n",
       "      <td>0.755</td>\n",
       "      <td>0.390</td>\n",
       "      <td>191.153</td>\n",
       "      <td>0.7330</td>\n",
       "      <td>0.0822</td>\n",
       "      <td>0.000000</td>\n",
       "      <td>0.353</td>\n",
       "      <td>1</td>\n",
       "      <td>193680</td>\n",
       "      <td>-6.276</td>\n",
       "      <td>0</td>\n",
       "      <td>0.437</td>\n",
       "      <td>83</td>\n",
       "    </tr>\n",
       "    <tr>\n",
       "      <th>1</th>\n",
       "      <td>61</td>\n",
       "      <td>11882167</td>\n",
       "      <td>848726.214286</td>\n",
       "      <td>14</td>\n",
       "      <td>0.625</td>\n",
       "      <td>0.314</td>\n",
       "      <td>167.911</td>\n",
       "      <td>0.5530</td>\n",
       "      <td>0.2870</td>\n",
       "      <td>0.000000</td>\n",
       "      <td>0.620</td>\n",
       "      <td>9</td>\n",
       "      <td>284856</td>\n",
       "      <td>-7.438</td>\n",
       "      <td>1</td>\n",
       "      <td>0.665</td>\n",
       "      <td>94</td>\n",
       "    </tr>\n",
       "    <tr>\n",
       "      <th>2</th>\n",
       "      <td>62</td>\n",
       "      <td>109991625</td>\n",
       "      <td>833269.886364</td>\n",
       "      <td>132</td>\n",
       "      <td>0.799</td>\n",
       "      <td>0.092</td>\n",
       "      <td>94.033</td>\n",
       "      <td>0.0873</td>\n",
       "      <td>0.1870</td>\n",
       "      <td>0.000000</td>\n",
       "      <td>0.836</td>\n",
       "      <td>7</td>\n",
       "      <td>217653</td>\n",
       "      <td>-4.247</td>\n",
       "      <td>0</td>\n",
       "      <td>0.772</td>\n",
       "      <td>78</td>\n",
       "    </tr>\n",
       "    <tr>\n",
       "      <th>3</th>\n",
       "      <td>124</td>\n",
       "      <td>4816077</td>\n",
       "      <td>688011.000000</td>\n",
       "      <td>7</td>\n",
       "      <td>0.560</td>\n",
       "      <td>0.153</td>\n",
       "      <td>94.949</td>\n",
       "      <td>0.1730</td>\n",
       "      <td>0.0426</td>\n",
       "      <td>0.000000</td>\n",
       "      <td>0.857</td>\n",
       "      <td>8</td>\n",
       "      <td>91011</td>\n",
       "      <td>-8.278</td>\n",
       "      <td>1</td>\n",
       "      <td>0.482</td>\n",
       "      <td>0</td>\n",
       "    </tr>\n",
       "    <tr>\n",
       "      <th>4</th>\n",
       "      <td>182</td>\n",
       "      <td>557997</td>\n",
       "      <td>557997.000000</td>\n",
       "      <td>1</td>\n",
       "      <td>0.919</td>\n",
       "      <td>0.107</td>\n",
       "      <td>95.991</td>\n",
       "      <td>0.0500</td>\n",
       "      <td>0.0063</td>\n",
       "      <td>0.000003</td>\n",
       "      <td>0.581</td>\n",
       "      <td>6</td>\n",
       "      <td>210347</td>\n",
       "      <td>-4.324</td>\n",
       "      <td>0</td>\n",
       "      <td>0.847</td>\n",
       "      <td>83</td>\n",
       "    </tr>\n",
       "  </tbody>\n",
       "</table>\n",
       "</div>"
      ],
      "text/plain": [
       "   top.rank  total.plays  average.daily.plays  days.in.chart  energy  \\\n",
       "0        91      9809956        700711.142857             14   0.755   \n",
       "1        61     11882167        848726.214286             14   0.625   \n",
       "2        62    109991625        833269.886364            132   0.799   \n",
       "3       124      4816077        688011.000000              7   0.560   \n",
       "4       182       557997        557997.000000              1   0.919   \n",
       "\n",
       "   liveness    tempo  speechiness  acousticness  instrumentalness  \\\n",
       "0     0.390  191.153       0.7330        0.0822          0.000000   \n",
       "1     0.314  167.911       0.5530        0.2870          0.000000   \n",
       "2     0.092   94.033       0.0873        0.1870          0.000000   \n",
       "3     0.153   94.949       0.1730        0.0426          0.000000   \n",
       "4     0.107   95.991       0.0500        0.0063          0.000003   \n",
       "\n",
       "   danceability  key  duration_ms  loudness  mode  valence  popularity  \n",
       "0         0.353    1       193680    -6.276     0    0.437          83  \n",
       "1         0.620    9       284856    -7.438     1    0.665          94  \n",
       "2         0.836    7       217653    -4.247     0    0.772          78  \n",
       "3         0.857    8        91011    -8.278     1    0.482           0  \n",
       "4         0.581    6       210347    -4.324     0    0.847          83  "
      ]
     },
     "execution_count": 8,
     "metadata": {},
     "output_type": "execute_result"
    }
   ],
   "source": [
    "X.head()"
   ]
  },
  {
   "cell_type": "code",
   "execution_count": 9,
   "metadata": {
    "collapsed": false
   },
   "outputs": [
    {
     "data": {
      "text/plain": [
       "0    1\n",
       "1    1\n",
       "2    1\n",
       "3    1\n",
       "4    1\n",
       "Name: cluster, dtype: int64"
      ]
     },
     "execution_count": 9,
     "metadata": {},
     "output_type": "execute_result"
    }
   ],
   "source": [
    "y.head()"
   ]
  },
  {
   "cell_type": "code",
   "execution_count": 10,
   "metadata": {
    "collapsed": true
   },
   "outputs": [],
   "source": [
    "# dividing X, y into train and test data \n",
    "X_train, X_test, y_train, y_test = train_test_split(X, y, random_state = 0) "
   ]
  },
  {
   "cell_type": "code",
   "execution_count": 11,
   "metadata": {
    "collapsed": false
   },
   "outputs": [],
   "source": [
    "dtree_model = DecisionTreeClassifier(max_depth = 3).fit(X_train, y_train) \n",
    "dtree_predictions = dtree_model.predict(X_test) "
   ]
  },
  {
   "cell_type": "code",
   "execution_count": 12,
   "metadata": {
    "collapsed": true
   },
   "outputs": [],
   "source": [
    "# creating a confusion matrix \n",
    "cm = confusion_matrix(y_test, dtree_predictions) "
   ]
  },
  {
   "cell_type": "code",
   "execution_count": 13,
   "metadata": {
    "collapsed": false
   },
   "outputs": [
    {
     "data": {
      "text/plain": [
       "array([[156,  16,   1],\n",
       "       [ 33, 157,   2],\n",
       "       [  8,  12,  27]])"
      ]
     },
     "execution_count": 13,
     "metadata": {},
     "output_type": "execute_result"
    }
   ],
   "source": [
    "cm"
   ]
  },
  {
   "cell_type": "code",
   "execution_count": 14,
   "metadata": {
    "collapsed": false
   },
   "outputs": [
    {
     "data": {
      "text/plain": [
       "0.82524271844660191"
      ]
     },
     "execution_count": 14,
     "metadata": {},
     "output_type": "execute_result"
    }
   ],
   "source": [
    "accuracy_score(y_test, dtree_predictions)"
   ]
  },
  {
   "cell_type": "code",
   "execution_count": 16,
   "metadata": {
    "collapsed": false
   },
   "outputs": [
    {
     "name": "stdout",
     "output_type": "stream",
     "text": [
      "Max depth: 2\n",
      "[[136  31   6]\n",
      " [ 15 174   3]\n",
      " [  0  16  31]]\n",
      "Accuracy: 0.82 (+/- 0.07)\n",
      "\n",
      "Max depth: 3\n",
      "[[156  16   1]\n",
      " [ 33 157   2]\n",
      " [  8  12  27]]\n",
      "Accuracy: 0.84 (+/- 0.04)\n",
      "\n",
      "Max depth: 4\n",
      "[[145  26   2]\n",
      " [ 18 172   2]\n",
      " [  2  12  33]]\n",
      "Accuracy: 0.85 (+/- 0.05)\n",
      "\n",
      "Max depth: 5\n",
      "[[137  32   4]\n",
      " [ 11 178   3]\n",
      " [  1  13  33]]\n",
      "Accuracy: 0.86 (+/- 0.04)\n",
      "\n",
      "Max depth: 6\n",
      "[[143  27   3]\n",
      " [ 16 173   3]\n",
      " [  1  12  34]]\n",
      "Accuracy: 0.86 (+/- 0.06)\n",
      "\n",
      "Max depth: 7\n",
      "[[148  23   2]\n",
      " [ 15 174   3]\n",
      " [  2  11  34]]\n",
      "Accuracy: 0.86 (+/- 0.03)\n",
      "\n",
      "Max depth: 8\n",
      "[[147  24   2]\n",
      " [ 18 172   2]\n",
      " [  2  12  33]]\n",
      "Accuracy: 0.86 (+/- 0.03)\n",
      "\n",
      "Max depth: 9\n",
      "[[145  23   5]\n",
      " [ 20 168   4]\n",
      " [  2  10  35]]\n",
      "Accuracy: 0.86 (+/- 0.04)\n",
      "\n",
      "Max depth: 10\n",
      "[[142  26   5]\n",
      " [ 20 169   3]\n",
      " [  2   9  36]]\n",
      "Accuracy: 0.85 (+/- 0.04)\n",
      "\n"
     ]
    }
   ],
   "source": [
    "#optimise max depth parameter\n",
    "for i in range(2,11):\n",
    "    \n",
    "    dtree_model = DecisionTreeClassifier(max_depth = i).fit(X_train, y_train) \n",
    "    dtree_predictions = dtree_model.predict(X_test)\n",
    "    cm = confusion_matrix(y_test, dtree_predictions) \n",
    "    scores = cross_val_score(dtree_model,X,y,cv=10)\n",
    "    print 'Max depth: %s' % i\n",
    "    print cm\n",
    "    print(\"Accuracy: %0.2f (+/- %0.2f)\" % (scores.mean(), scores.std() * 2))\n",
    "    print"
   ]
  },
  {
   "cell_type": "code",
   "execution_count": 25,
   "metadata": {
    "collapsed": true
   },
   "outputs": [],
   "source": [
    "#since there is no improvement in accuracy at max_depth>5, use 5 for final model\n",
    "dtree_model = DecisionTreeClassifier(max_depth = 5).fit(X_train, y_train) \n",
    "dtree_predictions = dtree_model.predict(X_test)"
   ]
  },
  {
   "cell_type": "code",
   "execution_count": 26,
   "metadata": {
    "collapsed": true
   },
   "outputs": [],
   "source": [
    "scores = cross_val_score(dtree_model,X,y,cv=10)\n",
    "cm = confusion_matrix(y_test, dtree_predictions)"
   ]
  },
  {
   "cell_type": "code",
   "execution_count": 27,
   "metadata": {
    "collapsed": false
   },
   "outputs": [
    {
     "data": {
      "text/plain": [
       "array([ 0.88484848,  0.85454545,  0.89090909,  0.84848485,  0.83636364,\n",
       "        0.84242424,  0.86666667,  0.84242424,  0.87195122,  0.86503067])"
      ]
     },
     "execution_count": 27,
     "metadata": {},
     "output_type": "execute_result"
    }
   ],
   "source": [
    "scores"
   ]
  },
  {
   "cell_type": "code",
   "execution_count": 28,
   "metadata": {
    "collapsed": false
   },
   "outputs": [
    {
     "name": "stdout",
     "output_type": "stream",
     "text": [
      "Accuracy: 0.86 (+/- 0.04)\n",
      "[[137  33   3]\n",
      " [ 11 179   2]\n",
      " [  1  14  32]]\n"
     ]
    }
   ],
   "source": [
    "print(\"Accuracy: %0.2f (+/- %0.2f)\" % (scores.mean(), scores.std() * 2))\n",
    "print cm"
   ]
  },
  {
   "cell_type": "code",
   "execution_count": 29,
   "metadata": {
    "collapsed": true
   },
   "outputs": [],
   "source": [
    "from sklearn import tree\n",
    "import graphviz"
   ]
  },
  {
   "cell_type": "code",
   "execution_count": 30,
   "metadata": {
    "collapsed": false
   },
   "outputs": [],
   "source": [
    "dot_data = tree.export_graphviz(dtree_model,\n",
    "                            feature_names=X.columns,\n",
    "                            class_names=['1','2','3'],    \n",
    "                            filled=True, rounded=True,  \n",
    "                            special_characters=True) \n",
    " "
   ]
  },
  {
   "cell_type": "code",
   "execution_count": 31,
   "metadata": {
    "collapsed": false
   },
   "outputs": [],
   "source": [
    "graph = graphviz.Source(dot_data)"
   ]
  },
  {
   "cell_type": "code",
   "execution_count": 32,
   "metadata": {
    "collapsed": false
   },
   "outputs": [],
   "source": [
    "#render the graph as a png file\n",
    "!dot -Tpng tree.dot -o tree.png "
   ]
  },
  {
   "cell_type": "code",
   "execution_count": null,
   "metadata": {
    "collapsed": true
   },
   "outputs": [],
   "source": []
  }
 ],
 "metadata": {
  "anaconda-cloud": {},
  "kernelspec": {
   "display_name": "Python [default]",
   "language": "python",
   "name": "python2"
  },
  "language_info": {
   "codemirror_mode": {
    "name": "ipython",
    "version": 2
   },
   "file_extension": ".py",
   "mimetype": "text/x-python",
   "name": "python",
   "nbconvert_exporter": "python",
   "pygments_lexer": "ipython2",
   "version": "2.7.13"
  }
 },
 "nbformat": 4,
 "nbformat_minor": 2
}
