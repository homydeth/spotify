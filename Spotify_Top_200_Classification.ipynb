{
 "cells": [
  {
   "cell_type": "code",
   "execution_count": 1,
   "metadata": {
    "collapsed": false
   },
   "outputs": [
    {
     "data": {
      "text/html": [
       "<script>jQuery(function() {if (jQuery(\"body.notebook_app\").length == 0) { jQuery(\".input_area\").toggle(); jQuery(\".prompt\").toggle();}});</script>"
      ]
     },
     "metadata": {},
     "output_type": "display_data"
    },
    {
     "data": {
      "text/html": [
       "<button onclick=\"jQuery('.input_area').toggle(); jQuery('.prompt').toggle();\">Toggle code</button>"
      ]
     },
     "metadata": {},
     "output_type": "display_data"
    }
   ],
   "source": [
    "from IPython.display import display\n",
    "from IPython.core.display import HTML \n",
    "import IPython.core.display as di # Example: di.display_html('<h3>%s:</h3>' % str, raw=True)\n",
    "\n",
    "# This line will hide code by default when the notebook is exported as HTML\n",
    "di.display_html('<script>jQuery(function() {if (jQuery(\"body.notebook_app\").length == 0) { jQuery(\".input_area\").toggle(); jQuery(\".prompt\").toggle();}});</script>', raw=True)\n",
    "\n",
    "# This line will add a button to toggle visibility of code blocks, for use with the HTML export version\n",
    "di.display_html('''<button onclick=\"jQuery('.input_area').toggle(); jQuery('.prompt').toggle();\">Toggle code</button>''', raw=True)\n",
    "\n",
    "import pandas as pd\n",
    "import numpy as np\n",
    "\n",
    "pd.set_option('mode.chained_assignment',None)"
   ]
  },
  {
   "cell_type": "code",
   "execution_count": 2,
   "metadata": {
    "collapsed": false
   },
   "outputs": [],
   "source": [
    "from sklearn.metrics import confusion_matrix \n",
    "from sklearn.metrics import accuracy_score\n",
    "from sklearn.tree import DecisionTreeClassifier"
   ]
  },
  {
   "cell_type": "code",
   "execution_count": 3,
   "metadata": {
    "collapsed": true
   },
   "outputs": [],
   "source": [
    "from sklearn.cross_validation import train_test_split"
   ]
  },
  {
   "cell_type": "code",
   "execution_count": 4,
   "metadata": {
    "collapsed": true
   },
   "outputs": [],
   "source": [
    "from sklearn.cross_validation import cross_val_score"
   ]
  },
  {
   "cell_type": "code",
   "execution_count": 5,
   "metadata": {
    "collapsed": true
   },
   "outputs": [],
   "source": [
    "data_df = pd.read_csv('spotify_top_200_clustered.csv')"
   ]
  },
  {
   "cell_type": "code",
   "execution_count": 6,
   "metadata": {
    "collapsed": false
   },
   "outputs": [
    {
     "data": {
      "text/html": [
       "<div>\n",
       "<table border=\"1\" class=\"dataframe\">\n",
       "  <thead>\n",
       "    <tr style=\"text-align: right;\">\n",
       "      <th></th>\n",
       "      <th>track_id</th>\n",
       "      <th>Artist</th>\n",
       "      <th>Track.Name</th>\n",
       "      <th>top.rank</th>\n",
       "      <th>total.plays</th>\n",
       "      <th>average.daily.plays</th>\n",
       "      <th>days.in.chart</th>\n",
       "      <th>artist_id</th>\n",
       "      <th>followers</th>\n",
       "      <th>genres</th>\n",
       "      <th>...</th>\n",
       "      <th>speechiness</th>\n",
       "      <th>acousticness</th>\n",
       "      <th>instrumentalness</th>\n",
       "      <th>danceability</th>\n",
       "      <th>key</th>\n",
       "      <th>duration_ms</th>\n",
       "      <th>loudness</th>\n",
       "      <th>mode</th>\n",
       "      <th>valence</th>\n",
       "      <th>cluster</th>\n",
       "    </tr>\n",
       "  </thead>\n",
       "  <tbody>\n",
       "    <tr>\n",
       "      <th>0</th>\n",
       "      <td>003eoIwxETJujVWmNFMoZy</td>\n",
       "      <td>Alessia Cara</td>\n",
       "      <td>Growing Pains</td>\n",
       "      <td>91</td>\n",
       "      <td>9809956</td>\n",
       "      <td>700711.142857</td>\n",
       "      <td>14</td>\n",
       "      <td>2wUjUUtkb5lvLKcGKsKqsR</td>\n",
       "      <td>4431425</td>\n",
       "      <td>[u'canadian contemporary r&amp;b', u'dance pop', u...</td>\n",
       "      <td>...</td>\n",
       "      <td>0.733</td>\n",
       "      <td>0.0822</td>\n",
       "      <td>0.0</td>\n",
       "      <td>0.353</td>\n",
       "      <td>1</td>\n",
       "      <td>193680</td>\n",
       "      <td>-6.276</td>\n",
       "      <td>0</td>\n",
       "      <td>0.437</td>\n",
       "      <td>1</td>\n",
       "    </tr>\n",
       "    <tr>\n",
       "      <th>1</th>\n",
       "      <td>00B7TZ0Xawar6NZ00JFomN</td>\n",
       "      <td>Cardi B</td>\n",
       "      <td>Best Life (feat. Chance The Rapper)</td>\n",
       "      <td>61</td>\n",
       "      <td>11882167</td>\n",
       "      <td>848726.214286</td>\n",
       "      <td>14</td>\n",
       "      <td>4kYSro6naA4h99UJvo89HB</td>\n",
       "      <td>5927731</td>\n",
       "      <td>[u'pop', u'rap']</td>\n",
       "      <td>...</td>\n",
       "      <td>0.553</td>\n",
       "      <td>0.2870</td>\n",
       "      <td>0.0</td>\n",
       "      <td>0.620</td>\n",
       "      <td>9</td>\n",
       "      <td>284856</td>\n",
       "      <td>-7.438</td>\n",
       "      <td>1</td>\n",
       "      <td>0.665</td>\n",
       "      <td>1</td>\n",
       "    </tr>\n",
       "  </tbody>\n",
       "</table>\n",
       "<p>2 rows × 24 columns</p>\n",
       "</div>"
      ],
      "text/plain": [
       "                 track_id        Artist                           Track.Name  \\\n",
       "0  003eoIwxETJujVWmNFMoZy  Alessia Cara                        Growing Pains   \n",
       "1  00B7TZ0Xawar6NZ00JFomN       Cardi B  Best Life (feat. Chance The Rapper)   \n",
       "\n",
       "   top.rank  total.plays  average.daily.plays  days.in.chart  \\\n",
       "0        91      9809956        700711.142857             14   \n",
       "1        61     11882167        848726.214286             14   \n",
       "\n",
       "                artist_id  followers  \\\n",
       "0  2wUjUUtkb5lvLKcGKsKqsR    4431425   \n",
       "1  4kYSro6naA4h99UJvo89HB    5927731   \n",
       "\n",
       "                                              genres   ...     speechiness  \\\n",
       "0  [u'canadian contemporary r&b', u'dance pop', u...   ...           0.733   \n",
       "1                                   [u'pop', u'rap']   ...           0.553   \n",
       "\n",
       "   acousticness  instrumentalness  danceability  key  duration_ms  loudness  \\\n",
       "0        0.0822               0.0         0.353    1       193680    -6.276   \n",
       "1        0.2870               0.0         0.620    9       284856    -7.438   \n",
       "\n",
       "   mode  valence  cluster  \n",
       "0     0    0.437        1  \n",
       "1     1    0.665        1  \n",
       "\n",
       "[2 rows x 24 columns]"
      ]
     },
     "execution_count": 6,
     "metadata": {},
     "output_type": "execute_result"
    }
   ],
   "source": [
    "data_df.head(2)"
   ]
  },
  {
   "cell_type": "code",
   "execution_count": 7,
   "metadata": {
    "collapsed": false
   },
   "outputs": [],
   "source": [
    "y = data_df.cluster\n",
    "X = data_df[['energy', 'liveness', 'tempo', 'speechiness'\n",
    "            , 'acousticness', 'instrumentalness', 'danceability', 'key'\n",
    "            , 'duration_ms' ,'loudness', 'mode', 'valence']]"
   ]
  },
  {
   "cell_type": "code",
   "execution_count": 8,
   "metadata": {
    "collapsed": false
   },
   "outputs": [
    {
     "data": {
      "text/html": [
       "<div>\n",
       "<table border=\"1\" class=\"dataframe\">\n",
       "  <thead>\n",
       "    <tr style=\"text-align: right;\">\n",
       "      <th></th>\n",
       "      <th>energy</th>\n",
       "      <th>liveness</th>\n",
       "      <th>tempo</th>\n",
       "      <th>speechiness</th>\n",
       "      <th>acousticness</th>\n",
       "      <th>instrumentalness</th>\n",
       "      <th>danceability</th>\n",
       "      <th>key</th>\n",
       "      <th>duration_ms</th>\n",
       "      <th>loudness</th>\n",
       "      <th>mode</th>\n",
       "      <th>valence</th>\n",
       "    </tr>\n",
       "  </thead>\n",
       "  <tbody>\n",
       "    <tr>\n",
       "      <th>0</th>\n",
       "      <td>0.755</td>\n",
       "      <td>0.390</td>\n",
       "      <td>191.153</td>\n",
       "      <td>0.7330</td>\n",
       "      <td>0.0822</td>\n",
       "      <td>0.000000</td>\n",
       "      <td>0.353</td>\n",
       "      <td>1</td>\n",
       "      <td>193680</td>\n",
       "      <td>-6.276</td>\n",
       "      <td>0</td>\n",
       "      <td>0.437</td>\n",
       "    </tr>\n",
       "    <tr>\n",
       "      <th>1</th>\n",
       "      <td>0.625</td>\n",
       "      <td>0.314</td>\n",
       "      <td>167.911</td>\n",
       "      <td>0.5530</td>\n",
       "      <td>0.2870</td>\n",
       "      <td>0.000000</td>\n",
       "      <td>0.620</td>\n",
       "      <td>9</td>\n",
       "      <td>284856</td>\n",
       "      <td>-7.438</td>\n",
       "      <td>1</td>\n",
       "      <td>0.665</td>\n",
       "    </tr>\n",
       "    <tr>\n",
       "      <th>2</th>\n",
       "      <td>0.799</td>\n",
       "      <td>0.092</td>\n",
       "      <td>94.033</td>\n",
       "      <td>0.0873</td>\n",
       "      <td>0.1870</td>\n",
       "      <td>0.000000</td>\n",
       "      <td>0.836</td>\n",
       "      <td>7</td>\n",
       "      <td>217653</td>\n",
       "      <td>-4.247</td>\n",
       "      <td>0</td>\n",
       "      <td>0.772</td>\n",
       "    </tr>\n",
       "    <tr>\n",
       "      <th>3</th>\n",
       "      <td>0.560</td>\n",
       "      <td>0.153</td>\n",
       "      <td>94.949</td>\n",
       "      <td>0.1730</td>\n",
       "      <td>0.0426</td>\n",
       "      <td>0.000000</td>\n",
       "      <td>0.857</td>\n",
       "      <td>8</td>\n",
       "      <td>91011</td>\n",
       "      <td>-8.278</td>\n",
       "      <td>1</td>\n",
       "      <td>0.482</td>\n",
       "    </tr>\n",
       "    <tr>\n",
       "      <th>4</th>\n",
       "      <td>0.919</td>\n",
       "      <td>0.107</td>\n",
       "      <td>95.991</td>\n",
       "      <td>0.0500</td>\n",
       "      <td>0.0063</td>\n",
       "      <td>0.000003</td>\n",
       "      <td>0.581</td>\n",
       "      <td>6</td>\n",
       "      <td>210347</td>\n",
       "      <td>-4.324</td>\n",
       "      <td>0</td>\n",
       "      <td>0.847</td>\n",
       "    </tr>\n",
       "  </tbody>\n",
       "</table>\n",
       "</div>"
      ],
      "text/plain": [
       "   energy  liveness    tempo  speechiness  acousticness  instrumentalness  \\\n",
       "0   0.755     0.390  191.153       0.7330        0.0822          0.000000   \n",
       "1   0.625     0.314  167.911       0.5530        0.2870          0.000000   \n",
       "2   0.799     0.092   94.033       0.0873        0.1870          0.000000   \n",
       "3   0.560     0.153   94.949       0.1730        0.0426          0.000000   \n",
       "4   0.919     0.107   95.991       0.0500        0.0063          0.000003   \n",
       "\n",
       "   danceability  key  duration_ms  loudness  mode  valence  \n",
       "0         0.353    1       193680    -6.276     0    0.437  \n",
       "1         0.620    9       284856    -7.438     1    0.665  \n",
       "2         0.836    7       217653    -4.247     0    0.772  \n",
       "3         0.857    8        91011    -8.278     1    0.482  \n",
       "4         0.581    6       210347    -4.324     0    0.847  "
      ]
     },
     "execution_count": 8,
     "metadata": {},
     "output_type": "execute_result"
    }
   ],
   "source": [
    "X.head()"
   ]
  },
  {
   "cell_type": "code",
   "execution_count": 9,
   "metadata": {
    "collapsed": false
   },
   "outputs": [
    {
     "data": {
      "text/plain": [
       "0    1\n",
       "1    1\n",
       "2    1\n",
       "3    2\n",
       "4    1\n",
       "Name: cluster, dtype: int64"
      ]
     },
     "execution_count": 9,
     "metadata": {},
     "output_type": "execute_result"
    }
   ],
   "source": [
    "y.head()"
   ]
  },
  {
   "cell_type": "code",
   "execution_count": 10,
   "metadata": {
    "collapsed": true
   },
   "outputs": [],
   "source": [
    "# dividing X, y into train and test data \n",
    "X_train, X_test, y_train, y_test = train_test_split(X, y, random_state = 0) "
   ]
  },
  {
   "cell_type": "code",
   "execution_count": 11,
   "metadata": {
    "collapsed": false
   },
   "outputs": [],
   "source": [
    "dtree_model = DecisionTreeClassifier(max_depth = 3).fit(X_train, y_train) \n",
    "dtree_predictions = dtree_model.predict(X_test) "
   ]
  },
  {
   "cell_type": "code",
   "execution_count": 12,
   "metadata": {
    "collapsed": false
   },
   "outputs": [
    {
     "data": {
      "text/plain": [
       "0.88349514563106801"
      ]
     },
     "execution_count": 12,
     "metadata": {},
     "output_type": "execute_result"
    }
   ],
   "source": [
    "accuracy_score(y_test, dtree_predictions)"
   ]
  },
  {
   "cell_type": "code",
   "execution_count": 13,
   "metadata": {
    "collapsed": true
   },
   "outputs": [],
   "source": [
    "# creating a confusion matrix \n",
    "cm = confusion_matrix(y_test, dtree_predictions) "
   ]
  },
  {
   "cell_type": "code",
   "execution_count": 14,
   "metadata": {
    "collapsed": false
   },
   "outputs": [
    {
     "data": {
      "text/plain": [
       "array([[144,   8,   1],\n",
       "       [ 22, 175,   2],\n",
       "       [  6,   9,  45]])"
      ]
     },
     "execution_count": 14,
     "metadata": {},
     "output_type": "execute_result"
    }
   ],
   "source": [
    "cm"
   ]
  },
  {
   "cell_type": "code",
   "execution_count": 17,
   "metadata": {
    "collapsed": false
   },
   "outputs": [
    {
     "name": "stdout",
     "output_type": "stream",
     "text": [
      "Max depth: 2\n",
      "[[132  15   6]\n",
      " [ 15 165  19]\n",
      " [  3  11  46]]\n",
      "Accuracy: 0.83 \n",
      "\n",
      "Max depth: 3\n",
      "[[144   8   1]\n",
      " [ 22 175   2]\n",
      " [  6   9  45]]\n",
      "Accuracy: 0.88 \n",
      "\n",
      "Max depth: 4\n",
      "[[133  19   1]\n",
      " [  5 193   1]\n",
      " [  5  16  39]]\n",
      "Accuracy: 0.89 \n",
      "\n",
      "Max depth: 5\n",
      "[[132  16   5]\n",
      " [  6 188   5]\n",
      " [  6   8  46]]\n",
      "Accuracy: 0.89 \n",
      "\n",
      "Max depth: 6\n",
      "[[137  10   6]\n",
      " [  9 186   4]\n",
      " [  8   6  46]]\n",
      "Accuracy: 0.90 \n",
      "\n",
      "Max depth: 7\n",
      "[[143   7   3]\n",
      " [  7 190   2]\n",
      " [  8   6  46]]\n",
      "Accuracy: 0.92 \n",
      "\n",
      "Max depth: 8\n",
      "[[142   8   3]\n",
      " [  7 191   1]\n",
      " [  8   7  45]]\n",
      "Accuracy: 0.92 \n",
      "\n",
      "Max depth: 9\n",
      "[[141   5   7]\n",
      " [  8 189   2]\n",
      " [  8   7  45]]\n",
      "Accuracy: 0.91 \n",
      "\n",
      "Max depth: 10\n",
      "[[144   7   2]\n",
      " [  9 188   2]\n",
      " [  7   7  46]]\n",
      "Accuracy: 0.92 \n",
      "\n"
     ]
    }
   ],
   "source": [
    "#optimise max depth parameter\n",
    "for i in range(2,11):\n",
    "    \n",
    "    dtree_model = DecisionTreeClassifier(max_depth = i).fit(X_train, y_train) \n",
    "    dtree_predictions = dtree_model.predict(X_test)\n",
    "    cm = confusion_matrix(y_test, dtree_predictions) \n",
    "    scores = accuracy_score(y_test, dtree_predictions)\n",
    "    print 'Max depth: %s' % i\n",
    "    print cm\n",
    "    print(\"Accuracy: %0.2f \" % scores)\n",
    "    print"
   ]
  },
  {
   "cell_type": "code",
   "execution_count": 18,
   "metadata": {
    "collapsed": true
   },
   "outputs": [],
   "source": [
    "#since there is little improvement in accuracy at max_depth>5, use 5 for final model for simplicity\n",
    "dtree_model = DecisionTreeClassifier(max_depth = 5).fit(X_train, y_train) \n",
    "dtree_predictions = dtree_model.predict(X_test)"
   ]
  },
  {
   "cell_type": "code",
   "execution_count": 19,
   "metadata": {
    "collapsed": true
   },
   "outputs": [],
   "source": [
    "scores = cross_val_score(dtree_model,X,y,cv=10)\n",
    "cm = confusion_matrix(y_test, dtree_predictions)"
   ]
  },
  {
   "cell_type": "code",
   "execution_count": 20,
   "metadata": {
    "collapsed": false
   },
   "outputs": [
    {
     "data": {
      "text/plain": [
       "array([ 0.90361446,  0.87951807,  0.8969697 ,  0.9030303 ,  0.87878788,\n",
       "        0.89090909,  0.8902439 ,  0.84756098,  0.89634146,  0.85276074])"
      ]
     },
     "execution_count": 20,
     "metadata": {},
     "output_type": "execute_result"
    }
   ],
   "source": [
    "scores"
   ]
  },
  {
   "cell_type": "code",
   "execution_count": 21,
   "metadata": {
    "collapsed": false
   },
   "outputs": [
    {
     "name": "stdout",
     "output_type": "stream",
     "text": [
      "Accuracy: 0.88 (+/- 0.04)\n",
      "[[128  16   9]\n",
      " [  6 188   5]\n",
      " [  6   7  47]]\n"
     ]
    }
   ],
   "source": [
    "print(\"Accuracy: %0.2f (+/- %0.2f)\" % (scores.mean(), scores.std() * 2))\n",
    "print cm"
   ]
  },
  {
   "cell_type": "code",
   "execution_count": 47,
   "metadata": {
    "collapsed": true
   },
   "outputs": [],
   "source": [
    "from sklearn import tree\n",
    "import graphviz"
   ]
  },
  {
   "cell_type": "code",
   "execution_count": 48,
   "metadata": {
    "collapsed": false
   },
   "outputs": [],
   "source": [
    "dot_data = tree.export_graphviz(dtree_model,\n",
    "                            feature_names=X.columns,\n",
    "                            class_names=['1','2','3'],    \n",
    "                            filled=True, rounded=True,  \n",
    "                            special_characters=True) \n",
    " "
   ]
  },
  {
   "cell_type": "code",
   "execution_count": 49,
   "metadata": {
    "collapsed": false
   },
   "outputs": [],
   "source": [
    "graph = graphviz.Source(dot_data)"
   ]
  },
  {
   "cell_type": "code",
   "execution_count": 50,
   "metadata": {
    "collapsed": false
   },
   "outputs": [],
   "source": [
    "#render the graph as a png file\n",
    "!dot -Tpng tree.dot -o tree.png "
   ]
  },
  {
   "cell_type": "code",
   "execution_count": 51,
   "metadata": {
    "collapsed": true
   },
   "outputs": [],
   "source": [
    "new_data = pd.read_csv('song_features2.csv')"
   ]
  },
  {
   "cell_type": "code",
   "execution_count": 52,
   "metadata": {
    "collapsed": false
   },
   "outputs": [
    {
     "data": {
      "text/html": [
       "<div>\n",
       "<table border=\"1\" class=\"dataframe\">\n",
       "  <thead>\n",
       "    <tr style=\"text-align: right;\">\n",
       "      <th></th>\n",
       "      <th>track_id</th>\n",
       "      <th>energy</th>\n",
       "      <th>liveness</th>\n",
       "      <th>tempo</th>\n",
       "      <th>speechiness</th>\n",
       "      <th>acousticness</th>\n",
       "      <th>instrumentalness</th>\n",
       "      <th>danceability</th>\n",
       "      <th>key</th>\n",
       "      <th>duration_ms</th>\n",
       "      <th>loudness</th>\n",
       "      <th>mode</th>\n",
       "      <th>valence</th>\n",
       "    </tr>\n",
       "  </thead>\n",
       "  <tbody>\n",
       "    <tr>\n",
       "      <th>0</th>\n",
       "      <td>14msK75pk3pA33pzPVNtBF</td>\n",
       "      <td>0.321</td>\n",
       "      <td>0.0884</td>\n",
       "      <td>70.142</td>\n",
       "      <td>0.3230</td>\n",
       "      <td>0.578</td>\n",
       "      <td>0.000000</td>\n",
       "      <td>0.725</td>\n",
       "      <td>1</td>\n",
       "      <td>178640.0</td>\n",
       "      <td>-10.744</td>\n",
       "      <td>0</td>\n",
       "      <td>0.319</td>\n",
       "    </tr>\n",
       "    <tr>\n",
       "      <th>1</th>\n",
       "      <td>6MWtB6iiXyIwun0YzU6DFP</td>\n",
       "      <td>0.539</td>\n",
       "      <td>0.1010</td>\n",
       "      <td>99.947</td>\n",
       "      <td>0.1780</td>\n",
       "      <td>0.163</td>\n",
       "      <td>0.000002</td>\n",
       "      <td>0.833</td>\n",
       "      <td>11</td>\n",
       "      <td>149520.0</td>\n",
       "      <td>-7.399</td>\n",
       "      <td>0</td>\n",
       "      <td>0.385</td>\n",
       "    </tr>\n",
       "    <tr>\n",
       "      <th>2</th>\n",
       "      <td>3KkXRkHbMCARz0aVfEt68P</td>\n",
       "      <td>0.479</td>\n",
       "      <td>0.0703</td>\n",
       "      <td>89.911</td>\n",
       "      <td>0.0466</td>\n",
       "      <td>0.556</td>\n",
       "      <td>0.000000</td>\n",
       "      <td>0.760</td>\n",
       "      <td>2</td>\n",
       "      <td>158040.0</td>\n",
       "      <td>-5.574</td>\n",
       "      <td>1</td>\n",
       "      <td>0.913</td>\n",
       "    </tr>\n",
       "    <tr>\n",
       "      <th>3</th>\n",
       "      <td>2JvzF1RMd7lE3KmFlsyZD8</td>\n",
       "      <td>0.364</td>\n",
       "      <td>0.2710</td>\n",
       "      <td>123.984</td>\n",
       "      <td>0.2760</td>\n",
       "      <td>0.149</td>\n",
       "      <td>0.000000</td>\n",
       "      <td>0.837</td>\n",
       "      <td>8</td>\n",
       "      <td>213594.0</td>\n",
       "      <td>-11.713</td>\n",
       "      <td>1</td>\n",
       "      <td>0.463</td>\n",
       "    </tr>\n",
       "    <tr>\n",
       "      <th>4</th>\n",
       "      <td>4NzMOnvSJVNKF7nw5NkXIP</td>\n",
       "      <td>0.389</td>\n",
       "      <td>0.1060</td>\n",
       "      <td>120.046</td>\n",
       "      <td>0.3320</td>\n",
       "      <td>0.740</td>\n",
       "      <td>0.162000</td>\n",
       "      <td>0.905</td>\n",
       "      <td>8</td>\n",
       "      <td>193143.0</td>\n",
       "      <td>-14.505</td>\n",
       "      <td>1</td>\n",
       "      <td>0.196</td>\n",
       "    </tr>\n",
       "  </tbody>\n",
       "</table>\n",
       "</div>"
      ],
      "text/plain": [
       "                 track_id  energy  liveness    tempo  speechiness  \\\n",
       "0  14msK75pk3pA33pzPVNtBF   0.321    0.0884   70.142       0.3230   \n",
       "1  6MWtB6iiXyIwun0YzU6DFP   0.539    0.1010   99.947       0.1780   \n",
       "2  3KkXRkHbMCARz0aVfEt68P   0.479    0.0703   89.911       0.0466   \n",
       "3  2JvzF1RMd7lE3KmFlsyZD8   0.364    0.2710  123.984       0.2760   \n",
       "4  4NzMOnvSJVNKF7nw5NkXIP   0.389    0.1060  120.046       0.3320   \n",
       "\n",
       "   acousticness  instrumentalness  danceability  key  duration_ms  loudness  \\\n",
       "0         0.578          0.000000         0.725    1     178640.0   -10.744   \n",
       "1         0.163          0.000002         0.833   11     149520.0    -7.399   \n",
       "2         0.556          0.000000         0.760    2     158040.0    -5.574   \n",
       "3         0.149          0.000000         0.837    8     213594.0   -11.713   \n",
       "4         0.740          0.162000         0.905    8     193143.0   -14.505   \n",
       "\n",
       "   mode  valence  \n",
       "0     0    0.319  \n",
       "1     0    0.385  \n",
       "2     1    0.913  \n",
       "3     1    0.463  \n",
       "4     1    0.196  "
      ]
     },
     "execution_count": 52,
     "metadata": {},
     "output_type": "execute_result"
    }
   ],
   "source": [
    "new_data.head()"
   ]
  },
  {
   "cell_type": "code",
   "execution_count": 53,
   "metadata": {
    "collapsed": false
   },
   "outputs": [],
   "source": [
    "new_X = new_data[['energy', 'liveness', 'tempo', 'speechiness'\n",
    "            , 'acousticness', 'instrumentalness', 'danceability', 'key'\n",
    "            , 'duration_ms' ,'loudness', 'mode', 'valence']] "
   ]
  },
  {
   "cell_type": "code",
   "execution_count": 54,
   "metadata": {
    "collapsed": true
   },
   "outputs": [],
   "source": [
    "#fit model to the new data to predict clusters\n",
    "dtree_predictions = dtree_model.predict(new_X)"
   ]
  },
  {
   "cell_type": "code",
   "execution_count": 56,
   "metadata": {
    "collapsed": false
   },
   "outputs": [],
   "source": [
    "new_data['cluster'] = dtree_predictions"
   ]
  },
  {
   "cell_type": "code",
   "execution_count": 62,
   "metadata": {
    "collapsed": false
   },
   "outputs": [],
   "source": [
    "counts = new_data.groupby(['cluster']).count()"
   ]
  },
  {
   "cell_type": "code",
   "execution_count": 64,
   "metadata": {
    "collapsed": false
   },
   "outputs": [
    {
     "data": {
      "text/plain": [
       "cluster\n",
       "1    75\n",
       "2    94\n",
       "3    31\n",
       "Name: track_id, dtype: int64"
      ]
     },
     "execution_count": 64,
     "metadata": {},
     "output_type": "execute_result"
    }
   ],
   "source": [
    "counts['track_id']"
   ]
  },
  {
   "cell_type": "code",
   "execution_count": null,
   "metadata": {
    "collapsed": true
   },
   "outputs": [],
   "source": []
  }
 ],
 "metadata": {
  "anaconda-cloud": {},
  "kernelspec": {
   "display_name": "Python [default]",
   "language": "python",
   "name": "python2"
  },
  "language_info": {
   "codemirror_mode": {
    "name": "ipython",
    "version": 2
   },
   "file_extension": ".py",
   "mimetype": "text/x-python",
   "name": "python",
   "nbconvert_exporter": "python",
   "pygments_lexer": "ipython2",
   "version": "2.7.13"
  }
 },
 "nbformat": 4,
 "nbformat_minor": 2
}
